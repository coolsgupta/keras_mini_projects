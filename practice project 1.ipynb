{
 "cells": [
  {
   "cell_type": "markdown",
   "metadata": {},
   "source": [
    "## Pre-Process Data"
   ]
  },
  {
   "cell_type": "code",
   "execution_count": 30,
   "metadata": {
    "collapsed": true
   },
   "outputs": [],
   "source": [
    "import numpy as np\n",
    "from random import randint\n",
    "from sklearn.preprocessing import MinMaxScaler"
   ]
  },
  {
   "cell_type": "code",
   "execution_count": 31,
   "metadata": {
    "collapsed": true
   },
   "outputs": [],
   "source": [
    "train_labels = []\n",
    "train_samples = []"
   ]
  },
  {
   "cell_type": "code",
   "execution_count": 32,
   "metadata": {
    "collapsed": true
   },
   "outputs": [],
   "source": [
    "#creating fake data for the exercise\n",
    "\n",
    "'''an experimental drug was tested on indivisuals of age 13-100.\n",
    "trial had 2100 participants. half under 65 years old and half above 65 years old.\n",
    "95% participants 65 or old experienced side effects.\n",
    "95% participants under 65 had no side effects.'''\n",
    "\n",
    "for i in range (1000):\n",
    "    random_younger  = randint(13,64)\n",
    "    train_samples.append(random_younger)\n",
    "    train_labels.append(0)\n",
    "    \n",
    "    random_older = randint(65,100)\n",
    "    train_samples.append(random_older)\n",
    "    train_labels.append(1)\n",
    "    \n",
    "for i in range (50):\n",
    "    random_younger  = randint(13,64)\n",
    "    train_samples.append(random_younger)\n",
    "    train_labels.append(1)\n",
    "    \n",
    "    random_older = randint(65,100)\n",
    "    train_samples.append(random_older)\n",
    "    train_labels.append(0)"
   ]
  },
  {
   "cell_type": "code",
   "execution_count": 33,
   "metadata": {
    "collapsed": true
   },
   "outputs": [],
   "source": [
    "train_labels = np.array(train_labels)\n",
    "train_samples = np.array(train_samples)"
   ]
  },
  {
   "cell_type": "code",
   "execution_count": 34,
   "metadata": {},
   "outputs": [
    {
     "name": "stderr",
     "output_type": "stream",
     "text": [
      "C:\\Users\\HACK\\Anaconda2\\envs\\tensorflow\\lib\\site-packages\\sklearn\\utils\\validation.py:475: DataConversionWarning: Data with input dtype int32 was converted to float64 by MinMaxScaler.\n",
      "  warnings.warn(msg, DataConversionWarning)\n"
     ]
    }
   ],
   "source": [
    "scaler = MinMaxScaler(feature_range = (0,1))\n",
    "scaled_train_samples = scaler.fit_transform((train_samples).reshape(-1,1))"
   ]
  },
  {
   "cell_type": "markdown",
   "metadata": {
    "collapsed": true
   },
   "source": [
    "## Model"
   ]
  },
  {
   "cell_type": "code",
   "execution_count": 35,
   "metadata": {},
   "outputs": [],
   "source": [
    "#import requirements\n",
    "from keras.layers import Dense, Activation\n",
    "from keras.models import Sequential\n",
    "from keras.optimizers import Adam\n",
    "from keras.metrics import categorical_crossentropy"
   ]
  },
  {
   "cell_type": "code",
   "execution_count": 36,
   "metadata": {},
   "outputs": [],
   "source": [
    "#create model\n",
    "model = Sequential([\n",
    "    Dense(16,input_shape = (1,), activation = 'relu'),\n",
    "    Dense(32,activation = 'relu'),\n",
    "    Dense(2,activation = 'softmax')\n",
    "])"
   ]
  },
  {
   "cell_type": "code",
   "execution_count": 37,
   "metadata": {},
   "outputs": [
    {
     "name": "stdout",
     "output_type": "stream",
     "text": [
      "_________________________________________________________________\n",
      "Layer (type)                 Output Shape              Param #   \n",
      "=================================================================\n",
      "dense_13 (Dense)             (None, 16)                32        \n",
      "_________________________________________________________________\n",
      "dense_14 (Dense)             (None, 32)                544       \n",
      "_________________________________________________________________\n",
      "dense_15 (Dense)             (None, 2)                 66        \n",
      "=================================================================\n",
      "Total params: 642\n",
      "Trainable params: 642\n",
      "Non-trainable params: 0\n",
      "_________________________________________________________________\n"
     ]
    }
   ],
   "source": [
    "#model summary\n",
    "model.summary()"
   ]
  },
  {
   "cell_type": "code",
   "execution_count": 38,
   "metadata": {},
   "outputs": [],
   "source": [
    "#compile model\n",
    "model.compile(Adam(lr = 0.001), loss = 'sparse_categorical_crossentropy', metrics = ['accuracy'])"
   ]
  },
  {
   "cell_type": "code",
   "execution_count": 39,
   "metadata": {},
   "outputs": [
    {
     "name": "stdout",
     "output_type": "stream",
     "text": [
      "Train on 1890 samples, validate on 210 samples\n",
      "Epoch 1/20\n",
      " - 2s - loss: 0.5745 - acc: 0.6841 - val_loss: 0.7625 - val_acc: 0.4905\n",
      "Epoch 2/20\n",
      " - 1s - loss: 0.3337 - acc: 0.9185 - val_loss: 1.0244 - val_acc: 0.5143\n",
      "Epoch 3/20\n",
      " - 1s - loss: 0.1794 - acc: 0.9661 - val_loss: 1.4169 - val_acc: 0.5095\n",
      "Epoch 4/20\n",
      " - 1s - loss: 0.1160 - acc: 0.9825 - val_loss: 1.8419 - val_acc: 0.5095\n",
      "Epoch 5/20\n",
      " - 1s - loss: 0.0890 - acc: 0.9873 - val_loss: 2.1806 - val_acc: 0.5095\n",
      "Epoch 6/20\n",
      " - 1s - loss: 0.0747 - acc: 0.9852 - val_loss: 2.4153 - val_acc: 0.5238\n",
      "Epoch 7/20\n",
      " - 1s - loss: 0.0644 - acc: 0.9884 - val_loss: 2.6759 - val_acc: 0.5238\n",
      "Epoch 8/20\n",
      " - 1s - loss: 0.0579 - acc: 0.9926 - val_loss: 2.9186 - val_acc: 0.5095\n",
      "Epoch 9/20\n",
      " - 1s - loss: 0.0533 - acc: 0.9915 - val_loss: 3.0914 - val_acc: 0.5238\n",
      "Epoch 10/20\n",
      " - 1s - loss: 0.0508 - acc: 0.9889 - val_loss: 3.2593 - val_acc: 0.5238\n",
      "Epoch 11/20\n",
      " - 1s - loss: 0.0454 - acc: 0.9921 - val_loss: 3.4702 - val_acc: 0.5095\n",
      "Epoch 12/20\n",
      " - 1s - loss: 0.0433 - acc: 0.9910 - val_loss: 3.6188 - val_acc: 0.5238\n",
      "Epoch 13/20\n",
      " - 1s - loss: 0.0392 - acc: 0.9915 - val_loss: 3.8485 - val_acc: 0.5095\n",
      "Epoch 14/20\n",
      " - 1s - loss: 0.0394 - acc: 0.9915 - val_loss: 3.9578 - val_acc: 0.5095\n",
      "Epoch 15/20\n",
      " - 1s - loss: 0.0354 - acc: 0.9942 - val_loss: 3.9930 - val_acc: 0.5143\n",
      "Epoch 16/20\n",
      " - 1s - loss: 0.0363 - acc: 0.9899 - val_loss: 4.2043 - val_acc: 0.5238\n",
      "Epoch 17/20\n",
      " - 1s - loss: 0.0340 - acc: 0.9942 - val_loss: 4.3178 - val_acc: 0.5238\n",
      "Epoch 18/20\n",
      " - 1s - loss: 0.0318 - acc: 0.9937 - val_loss: 4.5474 - val_acc: 0.5095\n",
      "Epoch 19/20\n",
      " - 1s - loss: 0.0309 - acc: 0.9958 - val_loss: 4.5820 - val_acc: 0.5238\n",
      "Epoch 20/20\n",
      " - 1s - loss: 0.0319 - acc: 0.9915 - val_loss: 4.6484 - val_acc: 0.5143\n"
     ]
    },
    {
     "data": {
      "text/plain": [
       "<keras.callbacks.History at 0x23efbd36cf8>"
      ]
     },
     "execution_count": 39,
     "metadata": {},
     "output_type": "execute_result"
    }
   ],
   "source": [
    "#train the model\n",
    "model.fit(scaled_train_samples, train_labels, validation_split = 0.1, batch_size =  10, epochs = 20, shuffle = True, verbose = 2)"
   ]
  },
  {
   "cell_type": "code",
   "execution_count": null,
   "metadata": {
    "collapsed": true
   },
   "outputs": [],
   "source": []
  }
 ],
 "metadata": {
  "kernelspec": {
   "display_name": "Python [conda env:tensorflow]",
   "language": "python",
   "name": "conda-env-tensorflow-py"
  },
  "language_info": {
   "codemirror_mode": {
    "name": "ipython",
    "version": 3
   },
   "file_extension": ".py",
   "mimetype": "text/x-python",
   "name": "python",
   "nbconvert_exporter": "python",
   "pygments_lexer": "ipython3",
   "version": "3.6.2"
  }
 },
 "nbformat": 4,
 "nbformat_minor": 2
}
