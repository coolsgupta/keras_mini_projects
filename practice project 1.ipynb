{
 "cells": [
  {
   "cell_type": "markdown",
   "metadata": {},
   "source": [
    "## Pre-Process Data"
   ]
  },
  {
   "cell_type": "code",
   "execution_count": 1,
   "metadata": {
    "collapsed": true
   },
   "outputs": [],
   "source": [
    "import numpy as np\n",
    "from random import randint\n",
    "from sklearn.preprocessing import MinMaxScaler"
   ]
  },
  {
   "cell_type": "code",
   "execution_count": 2,
   "metadata": {
    "collapsed": true
   },
   "outputs": [],
   "source": [
    "train_labels = []\n",
    "train_samples = []"
   ]
  },
  {
   "cell_type": "code",
   "execution_count": 4,
   "metadata": {
    "collapsed": true
   },
   "outputs": [],
   "source": [
    "#creating fake data for the exercise\n",
    "\n",
    "'''an experimental drug was tested on indivisuals of age 13-100.\n",
    "trial had 2100 participants. half under 65 years old and half above 65 years old.\n",
    "95% participants 65 or old experienced side effects.\n",
    "95% participants under 65 had no side effects.'''\n",
    "\n",
    "for i in range (1000):\n",
    "    random_younger  = randint(13,64)\n",
    "    train_samples.append(random_younger)\n",
    "    train_labels.append(0)\n",
    "    \n",
    "    random_older = randint(65,100)\n",
    "    train_samples.append(random_older)\n",
    "    train_labels.append(1)\n",
    "    \n",
    "for i in range (50):\n",
    "    random_younger  = randint(13,64)\n",
    "    train_samples.append(random_younger)\n",
    "    train_labels.append(1)\n",
    "    \n",
    "    random_older = randint(65,100)\n",
    "    train_samples.append(random_older)\n",
    "    train_labels.append(0)"
   ]
  },
  {
   "cell_type": "code",
   "execution_count": 5,
   "metadata": {
    "collapsed": true
   },
   "outputs": [],
   "source": [
    "train_labels = np.array(train_labels)\n",
    "train_samples = np.array(train_samples)"
   ]
  },
  {
   "cell_type": "code",
   "execution_count": 6,
   "metadata": {},
   "outputs": [
    {
     "name": "stderr",
     "output_type": "stream",
     "text": [
      "C:\\Users\\HACK\\Anaconda2\\envs\\tensorflow\\lib\\site-packages\\sklearn\\utils\\validation.py:475: DataConversionWarning: Data with input dtype int32 was converted to float64 by MinMaxScaler.\n",
      "  warnings.warn(msg, DataConversionWarning)\n"
     ]
    }
   ],
   "source": [
    "scaler = MinMaxScaler(feature_range = (0,1))\n",
    "scaled_train_samples = scaler.fit_transform((train_samples).reshape(-1,1))"
   ]
  },
  {
   "cell_type": "markdown",
   "metadata": {
    "collapsed": true
   },
   "source": [
    "## Model"
   ]
  },
  {
   "cell_type": "code",
   "execution_count": 7,
   "metadata": {},
   "outputs": [
    {
     "name": "stderr",
     "output_type": "stream",
     "text": [
      "C:\\Users\\HACK\\Anaconda2\\envs\\tensorflow\\lib\\site-packages\\h5py\\__init__.py:36: FutureWarning: Conversion of the second argument of issubdtype from `float` to `np.floating` is deprecated. In future, it will be treated as `np.float64 == np.dtype(float).type`.\n",
      "  from ._conv import register_converters as _register_converters\n",
      "Using TensorFlow backend.\n"
     ]
    }
   ],
   "source": [
    "#import requirements\n",
    "from keras.layers import Dense, Activation\n",
    "from keras.models import Sequential\n",
    "from keras.optimizers import Adam\n",
    "from keras.metrics import categorical_crossentropy"
   ]
  },
  {
   "cell_type": "code",
   "execution_count": 11,
   "metadata": {},
   "outputs": [],
   "source": [
    "#create model\n",
    "model = Sequential([\n",
    "    Dense(16,input_shape = (1,), activation = 'relu'),\n",
    "    Dense(32,activation = 'relu'),\n",
    "    Dense(2,activation = 'softmax')\n",
    "])"
   ]
  },
  {
   "cell_type": "code",
   "execution_count": 12,
   "metadata": {},
   "outputs": [
    {
     "name": "stdout",
     "output_type": "stream",
     "text": [
      "_________________________________________________________________\n",
      "Layer (type)                 Output Shape              Param #   \n",
      "=================================================================\n",
      "dense_7 (Dense)              (None, 16)                32        \n",
      "_________________________________________________________________\n",
      "dense_8 (Dense)              (None, 32)                544       \n",
      "_________________________________________________________________\n",
      "dense_9 (Dense)              (None, 2)                 66        \n",
      "=================================================================\n",
      "Total params: 642\n",
      "Trainable params: 642\n",
      "Non-trainable params: 0\n",
      "_________________________________________________________________\n"
     ]
    }
   ],
   "source": [
    "#model summary\n",
    "model.summary()"
   ]
  },
  {
   "cell_type": "code",
   "execution_count": 14,
   "metadata": {},
   "outputs": [],
   "source": [
    "#compile model\n",
    "model.compile(Adam(lr = 0.0001), loss = 'sparse_categorical_crossentropy', metrics = ['accuracy'])"
   ]
  },
  {
   "cell_type": "code",
   "execution_count": 15,
   "metadata": {},
   "outputs": [
    {
     "name": "stdout",
     "output_type": "stream",
     "text": [
      "Epoch 1/20\n",
      "4200/4200 [==============================] - 9s 2ms/step - loss: 0.6388 - acc: 0.5893\n",
      "Epoch 2/20\n",
      "4200/4200 [==============================] - 3s 753us/step - loss: 0.5857 - acc: 0.7200\n",
      "Epoch 3/20\n",
      "4200/4200 [==============================] - 3s 801us/step - loss: 0.5251 - acc: 0.7998\n",
      "Epoch 4/20\n",
      "4200/4200 [==============================] - 3s 714us/step - loss: 0.4591 - acc: 0.8581\n",
      "Epoch 5/20\n",
      "4200/4200 [==============================] - 3s 720us/step - loss: 0.3991 - acc: 0.8883\n",
      "Epoch 6/20\n",
      "4200/4200 [==============================] - 3s 740us/step - loss: 0.3534 - acc: 0.9098\n",
      "Epoch 7/20\n",
      "4200/4200 [==============================] - 4s 940us/step - loss: 0.3218 - acc: 0.9169\n",
      "Epoch 8/20\n",
      "4200/4200 [==============================] - 3s 709us/step - loss: 0.3008 - acc: 0.9264\n",
      "Epoch 9/20\n",
      "4200/4200 [==============================] - 3s 700us/step - loss: 0.2869 - acc: 0.9312\n",
      "Epoch 10/20\n",
      "4200/4200 [==============================] - 3s 713us/step - loss: 0.2775 - acc: 0.9319\n",
      "Epoch 11/20\n",
      "4200/4200 [==============================] - 3s 679us/step - loss: 0.2707 - acc: 0.9350\n",
      "Epoch 12/20\n",
      "4200/4200 [==============================] - 3s 691us/step - loss: 0.2656 - acc: 0.9350\n",
      "Epoch 13/20\n",
      "4200/4200 [==============================] - 3s 701us/step - loss: 0.2617 - acc: 0.9400\n",
      "Epoch 14/20\n",
      "4200/4200 [==============================] - 3s 717us/step - loss: 0.2587 - acc: 0.9367\n",
      "Epoch 15/20\n",
      "4200/4200 [==============================] - 3s 745us/step - loss: 0.2560 - acc: 0.9379\n",
      "Epoch 16/20\n",
      "4200/4200 [==============================] - 3s 728us/step - loss: 0.2537 - acc: 0.9381\n",
      "Epoch 17/20\n",
      "4200/4200 [==============================] - 3s 784us/step - loss: 0.2518 - acc: 0.9393\n",
      "Epoch 18/20\n",
      "4200/4200 [==============================] - 3s 715us/step - loss: 0.2499 - acc: 0.9402\n",
      "Epoch 19/20\n",
      "4200/4200 [==============================] - 4s 856us/step - loss: 0.2483 - acc: 0.9390\n",
      "Epoch 20/20\n",
      "4200/4200 [==============================] - 3s 692us/step - loss: 0.2467 - acc: 0.9407\n"
     ]
    },
    {
     "data": {
      "text/plain": [
       "<keras.callbacks.History at 0x23e61efe5f8>"
      ]
     },
     "execution_count": 15,
     "metadata": {},
     "output_type": "execute_result"
    }
   ],
   "source": [
    "#train the model\n",
    "model.fit(scaled_train_samples, train_labels, batch_size =  10, epochs = 20, shuffle = True, verbose = 1)"
   ]
  },
  {
   "cell_type": "code",
   "execution_count": null,
   "metadata": {
    "collapsed": true
   },
   "outputs": [],
   "source": []
  }
 ],
 "metadata": {
  "kernelspec": {
   "display_name": "Python [conda env:tensorflow]",
   "language": "python",
   "name": "conda-env-tensorflow-py"
  },
  "language_info": {
   "codemirror_mode": {
    "name": "ipython",
    "version": 3
   },
   "file_extension": ".py",
   "mimetype": "text/x-python",
   "name": "python",
   "nbconvert_exporter": "python",
   "pygments_lexer": "ipython3",
   "version": "3.6.2"
  }
 },
 "nbformat": 4,
 "nbformat_minor": 2
}
